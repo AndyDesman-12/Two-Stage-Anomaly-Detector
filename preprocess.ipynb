{
 "cells": [
  {
   "cell_type": "code",
   "execution_count": null,
   "metadata": {},
   "outputs": [
    {
     "name": "stdout",
     "output_type": "stream",
     "text": [
      "✅ Successful!\n"
     ]
    }
   ],
   "source": [
    "import os\n",
    "import random\n",
    "import shutil\n",
    "\n",
    "source_root = './Dataset/Open/Edited_plant/Solanum/markers'\n",
    "target_root = './Dataset/Open/Edited_plant_split/Solanum'\n",
    "splits = ['train', 'test']\n",
    "split_ratio = {'train': 0.8, 'test': 0.2}  # You can change this as needed\n",
    "\n",
    "for split in splits:\n",
    "    os.makedirs(os.path.join(target_root, split), exist_ok=True)\n",
    "\n",
    "files = [os.path.join(source_root, f) for f in os.listdir(source_root) if f.endswith('.wav')]\n",
    "\n",
    "random.shuffle(files)\n",
    "\n",
    "total = len(files)\n",
    "train_count = int(split_ratio['train'] * total)\n",
    "test_count = total - train_count\n",
    "\n",
    "train_files = files[:train_count]\n",
    "test_files = files[train_count:]\n",
    "\n",
    "def copy_pair(wav_path, dest_dir):\n",
    "    base = os.path.splitext(os.path.basename(wav_path))[0]\n",
    "    dst_wav = os.path.join(dest_dir, base + '.wav')\n",
    "    shutil.copyfile(wav_path, dst_wav)\n",
    "    marker1 = os.path.splitext(wav_path)[0] + '-events.txt'\n",
    "    marker2 = os.path.splitext(wav_path)[0] + '.txt'\n",
    "    if os.path.exists(marker1):\n",
    "        shutil.copyfile(marker1, os.path.join(dest_dir, os.path.basename(marker1)))\n",
    "    elif os.path.exists(marker2):\n",
    "        shutil.copyfile(marker2, os.path.join(dest_dir, os.path.basename(marker2)))\n",
    "\n",
    "for f in train_files:\n",
    "    copy_pair(f, os.path.join(target_root, 'train'))\n",
    "\n",
    "for f in test_files:\n",
    "    copy_pair(f, os.path.join(target_root, 'test'))\n",
    "\n",
    "print(\"✅ Successful!\")"
   ]
  },
  {
   "cell_type": "code",
   "execution_count": 4,
   "metadata": {},
   "outputs": [
    {
     "name": "stdout",
     "output_type": "stream",
     "text": [
      "\n",
      "Total marker files with only 1 marker ID: 0\n"
     ]
    }
   ],
   "source": [
    "import os\n",
    "\n",
    "marker_folder = './Dataset/Open/Edited_nonplant/markers'  # Change to your folder\n",
    "marker_files = [f for f in os.listdir(marker_folder) if f.endswith('.txt')]\n",
    "\n",
    "one_marker_files = []\n",
    "\n",
    "for fname in marker_files:\n",
    "    path = os.path.join(marker_folder, fname)\n",
    "    marker_ids = set()\n",
    "    with open(path, 'r') as f:\n",
    "        for line in f:\n",
    "            if line.strip() == '' or line.lower().startswith('marker'):\n",
    "                continue\n",
    "            marker_id = line.strip().split(',')[0]\n",
    "            marker_ids.add(marker_id)\n",
    "    if len(marker_ids) == 1:\n",
    "        one_marker_files.append(fname)\n",
    "        print(f'❗ Only 1 marker id in: {fname} (Marker ID: {list(marker_ids)[0]})')\n",
    "\n",
    "print(f'\\nTotal marker files with only 1 marker ID: {len(one_marker_files)}')"
   ]
  },
  {
   "cell_type": "code",
   "execution_count": 5,
   "metadata": {},
   "outputs": [
    {
     "name": "stdout",
     "output_type": "stream",
     "text": [
      "\n",
      "Total WAV files without marker files: 0\n"
     ]
    }
   ],
   "source": [
    "import os\n",
    "\n",
    "data_folder = './Dataset/Open/Edited_nonplant/markers'  # Change to your folder\n",
    "\n",
    "wav_files = [f for f in os.listdir(data_folder) if f.endswith('.wav')]\n",
    "missing_marker = []\n",
    "\n",
    "for wav in wav_files:\n",
    "    base = os.path.splitext(wav)[0]\n",
    "    marker1 = base + '-events.txt'\n",
    "    marker2 = base + '.txt'\n",
    "    has_marker = os.path.exists(os.path.join(data_folder, marker1)) or os.path.exists(os.path.join(data_folder, marker2))\n",
    "    if not has_marker:\n",
    "        missing_marker.append(wav)\n",
    "        print(f'❗ Missing marker for: {wav}')\n",
    "\n",
    "print(f'\\nTotal WAV files without marker files: {len(missing_marker)}')"
   ]
  },
  {
   "cell_type": "code",
   "execution_count": 6,
   "metadata": {},
   "outputs": [
    {
     "name": "stdout",
     "output_type": "stream",
     "text": [
      "\n",
      "Total WAV files with more than one pair of marker 1 and 2: 0\n"
     ]
    }
   ],
   "source": [
    "import os\n",
    "\n",
    "data_folder = './Dataset/Open/Edited_nonplant/markers'  # change to your folder\n",
    "\n",
    "wav_files = [f for f in os.listdir(data_folder) if f.endswith('.wav')]\n",
    "multi_pair_files = []\n",
    "\n",
    "for wav in wav_files:\n",
    "    base = os.path.splitext(wav)[0]\n",
    "    marker1 = base + '-events.txt'\n",
    "    marker2 = base + '.txt'\n",
    "    marker_path = None\n",
    "    if os.path.exists(os.path.join(data_folder, marker1)):\n",
    "        marker_path = os.path.join(data_folder, marker1)\n",
    "    elif os.path.exists(os.path.join(data_folder, marker2)):\n",
    "        marker_path = os.path.join(data_folder, marker2)\n",
    "    if marker_path is None:\n",
    "        continue\n",
    "\n",
    "    count_1 = 0\n",
    "    count_2 = 0\n",
    "    with open(marker_path, 'r') as f:\n",
    "        for line in f:\n",
    "            if line.strip() == '' or line.lower().startswith('marker'):\n",
    "                continue\n",
    "            marker_id = line.strip().split(',')[0]\n",
    "            if marker_id == '1':\n",
    "                count_1 += 1\n",
    "            if marker_id == '2':\n",
    "                count_2 += 1\n",
    "    if count_1 > 1 and count_2 > 1:\n",
    "        multi_pair_files.append(wav)\n",
    "        print(f'❗ {wav} has multiple pairs: {count_1} ID 1, {count_2} ID 2')\n",
    "\n",
    "print(f'\\nTotal WAV files with more than one pair of marker 1 and 2: {len(multi_pair_files)}')"
   ]
  }
 ],
 "metadata": {
  "kernelspec": {
   "display_name": "pytorch",
   "language": "python",
   "name": "python3"
  },
  "language_info": {
   "codemirror_mode": {
    "name": "ipython",
    "version": 3
   },
   "file_extension": ".py",
   "mimetype": "text/x-python",
   "name": "python",
   "nbconvert_exporter": "python",
   "pygments_lexer": "ipython3",
   "version": "3.11.11"
  }
 },
 "nbformat": 4,
 "nbformat_minor": 2
}
